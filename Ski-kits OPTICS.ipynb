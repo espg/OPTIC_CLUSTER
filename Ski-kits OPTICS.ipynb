{
 "metadata": {
  "name": "Ski-kits OPTICS"
 },
 "nbformat": 3,
 "nbformat_minor": 0,
 "worksheets": [
  {
   "cells": [
    {
     "cell_type": "code",
     "collapsed": false,
     "input": [
      "import sys\n",
      "import scipy\n",
      "import pickle\n",
      "from scipy.spatial import cKDTree\n",
      "from numba import autojit\n",
      "from itertools import izip\n",
      "\n",
      "from sklearn.neighbors import BallTree"
     ],
     "language": "python",
     "metadata": {},
     "outputs": [],
     "prompt_number": 1
    },
    {
     "cell_type": "code",
     "collapsed": false,
     "input": [
      "class setOfObjects(BallTree):    \n",
      "\n",
      "    def __init__(self,data_points):     \n",
      "\n",
      "        super(setOfObjects,self).__init__(data_points)\n",
      "\n",
      "        self._n             =   len(self.data)\n",
      "        self._processed     =   scipy.zeros((self._n,1),dtype=bool)\n",
      "        self._reachability  =   scipy.ones(self._n)*scipy.inf\n",
      "        self._core_dist     =   scipy.ones(self._n)*scipy.nan\n",
      "        self._index         =   scipy.array(range(self._n))\n",
      "        self._nneighbors    =   scipy.ones(self._n,dtype=int)\n",
      "        self._cluster_id\n",
      "        self._is_core\n",
      "        \n",
      "        ### so... top level object is OPTICS... which is the estimator\n",
      "        ### OPTICS is called with a dataset, a min number of points per cluster, ### disregard\n",
      "        ###        and an optional max-epsilon value that defaults to the range of the dataset ### disregard\n",
      "        \n",
      "        ### there is an object flag that sets whether a fit has been called? maybe...\n",
      "        ### anyway, main call ( OPTICS.order(minpts, max_epsilon) ), returns a cluster ordered list or array,\n",
      "        ### and modifies self--- probably better to both? I actually like just an object...\n",
      "        \n",
      "        \n",
      "        \n",
      "\n",
      "    def _set_neighborhood(self,point,epsilon):\n",
      "#        neighborhood     =  self.query_(self.data[point],self.n,\n",
      "#                                        distance_upper_bound=epsilon)\n",
      "#        self._nneighbors[point] = scipy.isfinite(neighborhood[0]).nonzero()[0].size\n",
      "        self._nneighbors[point] = self.query_radius(self.data[point], epsilon, count_only=1)[0]\n",
      "\n",
      "    def _set_core_dist(self,point,MinPts):\n",
      "        self._core_dist[point]  = self.query(self.data[point],MinPts)[0][0][-1]\n",
      "\n",
      "#    def __iter__(self):\n",
      "#        output = (self._index[n] for n in self._index if not self._processed[self._index[n]])\n"
     ],
     "language": "python",
     "metadata": {},
     "outputs": [],
     "prompt_number": 61
    },
    {
     "cell_type": "code",
     "collapsed": false,
     "input": [
      "def prep_optics(SetofObjects,epsilon,MinPts):\n",
      "    for i in SetofObjects._index:\n",
      "        SetofObjects._set_neighborhood(i,epsilon)\n",
      "    for j in SetofObjects._index:\n",
      "        if SetofObjects._nneighbors[j] >= MinPts:\n",
      "            SetofObjects._set_core_dist(j,MinPts)\n",
      "    print('Core and reachability distances prepped for ' + str(SetofObjects._n) + ' points.')"
     ],
     "language": "python",
     "metadata": {},
     "outputs": [],
     "prompt_number": 69
    },
    {
     "cell_type": "code",
     "collapsed": false,
     "input": [
      "def build_optics(SetOfObjects,epsilon,MinPts,Output_file_name):\n",
      "    for point in SetOfObjects._index:\n",
      "        if SetOfObjects._processed[point] == False:\n",
      "            expandClusterOrder(SetOfObjects,point,epsilon,\n",
      "                               MinPts,Output_file_name)\n",
      "                               "
     ],
     "language": "python",
     "metadata": {},
     "outputs": [],
     "prompt_number": 70
    },
    {
     "cell_type": "code",
     "collapsed": false,
     "input": [
      "def expandClusterOrder(SetOfObjects,point,epsilon,MinPts,Output_file_name):\n",
      "#    core_dist = SetOfObjects.query(SetOfObjects.data[point],MinPts,\n",
      "#                                   distance_upper_bound=epsilon)[0][MinPts-1]\n",
      "#    SetOfObjects._reachability[point]= core_dist #not needed?\n",
      "#    nobjects = 0\n",
      "    if SetOfObjects._core_dist[point] <= epsilon:\n",
      "        while not SetOfObjects._processed[point]:\n",
      "            SetOfObjects._processed[point] = True\n",
      "            with open(Output_file_name, 'a') as file:\n",
      "                file.write((str(point) + ', ' + str(SetOfObjects._reachability[point]) + '\\n'))\n",
      "                point = set_reach_dist(SetOfObjects,point,epsilon)\n",
      "        print('Object #' + str(nobjects) + 'Found!')\n",
      "        nobjects = nobjects + 1\n",
      "    else SetOfObjects._processed[point] = True    #Not needed\n",
      "        ## Could add option to save noise points...\n"
     ],
     "language": "python",
     "metadata": {},
     "outputs": [],
     "prompt_number": 71
    },
    {
     "cell_type": "code",
     "collapsed": false,
     "input": [
      "def set_reach_dist(SetOfObjects,point_index,epsilon):\n",
      "#    distances, indices = SetOfObjects.query(SetOfObjects.data[point_index],\n",
      "#                                            SetOfObjects._nneighbors[point_index],\n",
      "#                                            distance_upper_bound=epsilon)\n",
      "\n",
      "### Assuming that query returns ordered entries\n",
      "    distances, indices = SetOfObjects.query(SetOfObjects.data[point_index],\n",
      "                                            SetOfObjects._nneighbors[point_index])\n",
      "\n",
      "    if scipy.iterable(distances):\n",
      "    #Is there more than one member in the neighborhood\n",
      "#        if scipy.isfinite(distances[-1]):   # this shouldn't be needed...\n",
      "#            c_dist = distances[-1]  # also shouldn't be needed...\n",
      "            # Should equal SetOfObjects._core_dist[point_index]\n",
      "##bad :-(            unprocessed = SetOfObjects._index[(scipy.where(test_set._processed[indices] < 1)[0])]\n",
      "            ## Masking processed values\n",
      "        unprocessed = indices[(SetOfObjects._processed[indices] < 1)[0].T]\n",
      "        SetOfObjects._reachability[unprocessed] = scipy.minimum(SetOfObjects._reachability[unprocessed],\n",
      "                                                                    SetOfObjects._core_dist[point_index])\n",
      "        return unprocessed[0]\n",
      "    else: \n",
      "        return point_index\n",
      "    #else:\n",
      "    #    return point_index\n",
      "    "
     ],
     "language": "python",
     "metadata": {},
     "outputs": [],
     "prompt_number": 72
    },
    {
     "cell_type": "code",
     "collapsed": false,
     "input": [
      "def ExtractDBSCAN(self, ClusterOrderedObjs, epsilon_prime,MinPts): #ClusterOrderedObjs is ordered list\n",
      "    labels_ = -scipy.ones(len(ClusterOrderedObjs))\n",
      "    label_index = 0 # Cluster_id\n",
      "    for entry in ClusterOrderedObjs:\n",
      "        if self._reachability[entry] > epsilon_prime:\n",
      "            # undefined???\n",
      "            if reach_dist <= core_dist:\n",
      "                label_index += 1\n",
      "                \n",
      "            "
     ],
     "language": "python",
     "metadata": {},
     "outputs": []
    },
    {
     "cell_type": "code",
     "collapsed": false,
     "input": [
      "testdata = scipy.rand(5000,3)\n",
      "#test_set = setOfObjects(testdata)"
     ],
     "language": "python",
     "metadata": {},
     "outputs": [],
     "prompt_number": 73
    },
    {
     "cell_type": "code",
     "collapsed": false,
     "input": [
      "testtree = setOfObjects(testdata)"
     ],
     "language": "python",
     "metadata": {},
     "outputs": [],
     "prompt_number": 74
    },
    {
     "cell_type": "code",
     "collapsed": false,
     "input": [
      "testtree._n\n",
      "prep_optics(testtree,0.3,5)"
     ],
     "language": "python",
     "metadata": {},
     "outputs": [
      {
       "output_type": "stream",
       "stream": "stdout",
       "text": [
        "Core and reachability distances prepped for 5000 points.\n"
       ]
      }
     ],
     "prompt_number": 75
    },
    {
     "cell_type": "code",
     "collapsed": false,
     "input": [
      "testtree._nneighbors[0:30]"
     ],
     "language": "python",
     "metadata": {},
     "outputs": [
      {
       "output_type": "pyout",
       "prompt_number": 78,
       "text": [
        "array([275, 496, 314, 568, 407, 269, 604, 291, 591, 143, 520, 345, 425,\n",
        "       301, 371, 498, 381, 528, 429, 488, 331, 293, 177, 294, 227, 511,\n",
        "       329, 534, 540, 587])"
       ]
      }
     ],
     "prompt_number": 78
    },
    {
     "cell_type": "code",
     "collapsed": false,
     "input": [
      "testtree2 = cKDTree(testdata)"
     ],
     "language": "python",
     "metadata": {},
     "outputs": [],
     "prompt_number": 10
    },
    {
     "cell_type": "code",
     "collapsed": false,
     "input": [
      "dist,ind = testtree.query(testdata[6],testtree._nneighbors[6])"
     ],
     "language": "python",
     "metadata": {},
     "outputs": [],
     "prompt_number": 104
    },
    {
     "cell_type": "code",
     "collapsed": false,
     "input": [
      "testtree.query_radius(testtree.data[2],.001)"
     ],
     "language": "python",
     "metadata": {},
     "outputs": [
      {
       "output_type": "pyout",
       "prompt_number": 153,
       "text": [
        "array([array([2], dtype=int32)], dtype=object)"
       ]
      }
     ],
     "prompt_number": 153
    },
    {
     "cell_type": "code",
     "collapsed": false,
     "input": [
      "ind"
     ],
     "language": "python",
     "metadata": {},
     "outputs": [
      {
       "output_type": "pyout",
       "prompt_number": 119,
       "text": [
        "array([[   6, 2214, 2682, 3986, 2696, 4653, 1109, 2146,  593, 3659, 1205,\n",
        "        4271, 4155, 3968, 4710, 3567, 3455,  854, 3459, 4680,  865,  389,\n",
        "         147, 4863, 1082, 1404, 3885, 3927, 1313, 3943, 3422,  504, 1821,\n",
        "        1883, 1068, 1908,   41, 2690,  285, 1087, 3560, 4959,  495, 1636,\n",
        "        2340,  580,  732, 1879,  694,  662, 4809, 2712, 1382,   46,   77,\n",
        "        1043, 1502,  305, 3018,  297, 1785, 4342, 2196, 2523, 4017, 4069,\n",
        "        4183, 3443, 4165, 3880,  354,  888, 1874, 2993, 4762, 1862, 2286,\n",
        "        3582, 2892, 3261, 2226, 2903, 1208, 2754,  240, 2283,  524, 4633,\n",
        "        2113, 4078, 3225,  190, 3661, 2711,  942, 3874,  834, 3164, 2699,\n",
        "        2515, 2923,  223, 3248, 1279, 1244, 3545, 4906, 3111, 1627, 4666,\n",
        "        4379, 4050, 2776, 2740, 4571, 3395,  742, 4370, 1480, 3401, 3812,\n",
        "        1917, 3497, 2007, 1058, 3663, 2564,  168, 3383, 1604, 2129, 3743,\n",
        "        3662, 4949, 2168, 1448,  337, 3184, 1743, 4669, 1926, 1646, 3702,\n",
        "        3601,  555, 4585,  786, 2762, 1555, 1180, 4717, 3175, 2882, 4656,\n",
        "        2742,  416, 3538, 1375, 1534, 4501, 3417, 3362, 3345, 2556, 4136,\n",
        "          54, 2656, 3794, 4486, 3145, 1027, 2017, 4871, 2371, 2481, 1924,\n",
        "        4353, 4205, 4399,  178, 3427, 2425, 4226, 3556,  251, 3499, 2789,\n",
        "         189, 2225, 1126,   59, 3329, 2233, 2718, 3774, 4044, 2736,  671,\n",
        "        2722,  114, 4830, 4093, 4810, 4193,  920, 2710, 2027, 2525, 1760,\n",
        "        1392, 3900, 3757, 2630, 2941, 1163, 4072, 1488, 1445, 2358,  510,\n",
        "        2138, 4490,  363, 1268, 1336, 2005, 3821,  293, 4224,  497, 4603,\n",
        "        1652,  951,  915, 3505, 1856, 3947,  120, 3698, 1816,  432, 1393,\n",
        "        3264, 2943,   53,  425, 3786,   29, 4711, 1462, 2359,  471, 4347,\n",
        "        1503, 1198, 3829, 2715,  681,  918,   37, 3056, 3946, 1702, 3780,\n",
        "        2728,  225, 3134, 2421,  130, 3095,  429, 3996, 1306, 2143, 3390,\n",
        "         750, 1512, 2287,   44, 3050, 1472, 4125, 2323,  454, 2311,  570,\n",
        "         629, 3274, 2003, 1556, 2913, 4268, 1241, 1645, 2388, 3270, 4484,\n",
        "        4851, 4816,  741, 4667, 4194, 3439, 3433, 3902, 1590, 1291, 1713,\n",
        "        3840, 4563,  448, 4724, 1237,  748, 1452, 4476, 3563, 2998, 1189,\n",
        "        3910, 1164, 1338, 3727, 2826, 2259, 1612, 1739,  990, 4187,  286,\n",
        "        2991, 3824, 2069, 1137, 2609, 3107, 3542,  930, 1374, 4107, 3088,\n",
        "        2685, 2920,  522, 1641, 4609, 3424, 1433, 1451, 1583, 3953, 3528,\n",
        "        1380, 4532,  541,  919, 4061, 1271, 1295, 3223, 3419, 1277, 3347,\n",
        "        2984, 4743, 2574, 3283,  968, 2269, 2066, 3414, 2165, 1482, 2703,\n",
        "        4404, 1416, 3855, 3920, 4111, 3012, 4270, 3974, 1653, 2432, 4774,\n",
        "        1861, 2632, 3658,  889, 4131, 3592, 4185, 4701, 3525, 3673, 4976,\n",
        "        1798,  821,  492,  973, 3985, 3573, 3544, 3277,   47, 2989, 3827,\n",
        "         548, 1202, 3337, 1297, 2437, 4191, 4057,  734, 3498, 3486, 1071,\n",
        "        3243, 2382, 1854,  596, 2363, 2128, 2651, 2273, 3338,  128, 2542,\n",
        "        4973,  954, 4008, 2752,  246, 4176, 4410, 1240,  355, 2971, 3696,\n",
        "         876,  757,   75, 4819,  325, 1262, 3246, 1062, 2083, 4392, 2102,\n",
        "        3420, 4528, 3599, 2153, 1391, 2410, 3699, 1939,  731, 3651, 2151,\n",
        "        4141,  756, 2188, 2968, 1067, 4417, 2758, 2046, 3168, 3407, 3454,\n",
        "        2266, 1496, 1769, 2572, 4098, 4085, 4570, 1576, 3833, 1688, 4855,\n",
        "        3935, 1425, 1626, 2583, 2885, 1857, 1006, 4179, 4648,  195, 4722,\n",
        "         206, 1310, 4327, 1017, 3190, 3546, 1563, 4760, 4983, 3096, 1219,\n",
        "         332,  300, 2896, 1953, 2673, 2859,  384, 3215, 2720, 3174, 1999,\n",
        "        4499,  665,  872, 3139,  864, 1025,  208,  921, 3917, 4690, 1264,\n",
        "        1116, 3773,  963, 4413, 4726, 3231, 3700, 2621, 4599, 4859, 1983,\n",
        "         601, 1337, 1464, 4757, 2341,  609, 2866, 4600, 2491, 4440, 4362,\n",
        "         466, 1281, 1435, 3335, 3371,  509, 3830, 2444, 1938, 4436,  719,\n",
        "        1144, 1341, 3437, 2250, 3756, 2530, 1200, 2119, 3604, 2628, 2377,\n",
        "         818, 2160, 1173, 4149, 1363, 2503, 2932, 3828, 4348, 2441,  323,\n",
        "        1108, 4279, 4428, 3240, 2401, 4405, 4798, 1188, 1455, 2884, 1011,\n",
        "        2230,  446, 3296, 3532, 1950, 3205,  810,  606, 1378,  827]], dtype=int32)"
       ]
      }
     ],
     "prompt_number": 119
    },
    {
     "cell_type": "code",
     "collapsed": false,
     "input": [
      "dist[(testtree._processed[ind] < 1)[0].T]"
     ],
     "language": "python",
     "metadata": {},
     "outputs": [
      {
       "output_type": "pyout",
       "prompt_number": 139,
       "text": [
        "array([ 0.        ,  0.10095298,  0.10168772,  0.11743136,  0.11781823,\n",
        "        0.12085481,  0.12486699,  0.12687484,  0.12945302,  0.12974357,\n",
        "        0.13968692,  0.14977863,  0.15154771,  0.15736554,  0.17204634,\n",
        "        0.17582989,  0.18209299,  0.18504169,  0.19239737,  0.19383765,\n",
        "        0.19451542,  0.19576087,  0.20085621,  0.21110929,  0.21308184,\n",
        "        0.21354859,  0.21563159,  0.21715509,  0.21754252,  0.21774133,\n",
        "        0.21910038,  0.22007727,  0.22225777,  0.22428799,  0.2254487 ,\n",
        "        0.2257522 ,  0.23172911,  0.23314574,  0.24041641,  0.2440092 ,\n",
        "        0.25897783,  0.25990883,  0.26462823,  0.26676443,  0.26774474,\n",
        "        0.27082898,  0.27093361,  0.27813281,  0.27829225,  0.28016923,\n",
        "        0.28051283,  0.2818001 ,  0.2842783 ,  0.288118  ,  0.29529771,\n",
        "        0.29798712])"
       ]
      }
     ],
     "prompt_number": 139
    },
    {
     "cell_type": "code",
     "collapsed": false,
     "input": [
      "scipy.minimum(testtree._reachability[unprocessed],testtree._core_dist[6])"
     ],
     "language": "python",
     "metadata": {},
     "outputs": [
      {
       "output_type": "pyout",
       "prompt_number": 135,
       "text": [
        "array([ 0.04321362,  0.04321362,  0.04321362,  0.04321362,  0.04321362,\n",
        "        0.04321362,  0.04321362,  0.04321362,  0.04321362,  0.04321362,\n",
        "        0.04321362,  0.04321362,  0.04321362,  0.04321362,  0.04321362,\n",
        "        0.04321362,  0.04321362,  0.04321362,  0.04321362,  0.04321362,\n",
        "        0.04321362,  0.04321362,  0.04321362,  0.04321362,  0.04321362,\n",
        "        0.04321362,  0.04321362,  0.04321362,  0.04321362,  0.04321362,\n",
        "        0.04321362,  0.04321362,  0.04321362,  0.04321362,  0.04321362,\n",
        "        0.04321362,  0.04321362,  0.04321362,  0.04321362,  0.04321362,\n",
        "        0.04321362,  0.04321362,  0.04321362,  0.04321362,  0.04321362,\n",
        "        0.04321362,  0.04321362,  0.04321362,  0.04321362,  0.04321362,\n",
        "        0.04321362,  0.04321362,  0.04321362,  0.04321362,  0.04321362,\n",
        "        0.04321362])"
       ]
      }
     ],
     "prompt_number": 135
    },
    {
     "cell_type": "code",
     "collapsed": false,
     "input": [
      "testtree._reachability[0:100] = 0.5\n",
      "testtree._reachability[100:200] = 0.02\n",
      "testtree._reachability[400:500] = 0.01"
     ],
     "language": "python",
     "metadata": {},
     "outputs": [],
     "prompt_number": 136
    },
    {
     "cell_type": "code",
     "collapsed": false,
     "input": [
      "testtree._reachability[unprocessed]"
     ],
     "language": "python",
     "metadata": {},
     "outputs": [
      {
       "output_type": "pyout",
       "prompt_number": 137,
       "text": [
        "array([ 0.5 ,   inf,  0.02,  0.5 ,   inf,  0.01,  0.5 ,  0.5 ,   inf,\n",
        "         inf,   inf,   inf,  0.02,   inf,  0.02,   inf,  0.01,  0.5 ,\n",
        "        0.02,   inf,  0.02,  0.5 ,  0.02,   inf,   inf,  0.01,  0.02,\n",
        "        0.01,  0.5 ,  0.01,  0.5 ,  0.01,  0.5 ,   inf,  0.02,  0.01,\n",
        "        0.5 ,  0.01,  0.01,   inf,  0.01,  0.5 ,  0.02,   inf,   inf,\n",
        "        0.5 ,   inf,  0.02,   inf,   inf,   inf,   inf,   inf,  0.01,\n",
        "         inf,  0.01])"
       ]
      }
     ],
     "prompt_number": 137
    },
    {
     "cell_type": "code",
     "collapsed": false,
     "input": [
      "scipy.minimum(testtree._reachability[unprocessed],testtree._core_dist[6])"
     ],
     "language": "python",
     "metadata": {},
     "outputs": [
      {
       "output_type": "pyout",
       "prompt_number": 138,
       "text": [
        "array([ 0.04321362,  0.04321362,  0.02      ,  0.04321362,  0.04321362,\n",
        "        0.01      ,  0.04321362,  0.04321362,  0.04321362,  0.04321362,\n",
        "        0.04321362,  0.04321362,  0.02      ,  0.04321362,  0.02      ,\n",
        "        0.04321362,  0.01      ,  0.04321362,  0.02      ,  0.04321362,\n",
        "        0.02      ,  0.04321362,  0.02      ,  0.04321362,  0.04321362,\n",
        "        0.01      ,  0.02      ,  0.01      ,  0.04321362,  0.01      ,\n",
        "        0.04321362,  0.01      ,  0.04321362,  0.04321362,  0.02      ,\n",
        "        0.01      ,  0.04321362,  0.01      ,  0.01      ,  0.04321362,\n",
        "        0.01      ,  0.04321362,  0.02      ,  0.04321362,  0.04321362,\n",
        "        0.04321362,  0.04321362,  0.02      ,  0.04321362,  0.04321362,\n",
        "        0.04321362,  0.04321362,  0.04321362,  0.01      ,  0.04321362,\n",
        "        0.01      ])"
       ]
      }
     ],
     "prompt_number": 138
    },
    {
     "cell_type": "code",
     "collapsed": false,
     "input": [
      "5 <= 3"
     ],
     "language": "python",
     "metadata": {},
     "outputs": [
      {
       "output_type": "pyout",
       "prompt_number": 143,
       "text": [
        "False"
       ]
      }
     ],
     "prompt_number": 143
    },
    {
     "cell_type": "code",
     "collapsed": false,
     "input": [
      "4 <> 3"
     ],
     "language": "python",
     "metadata": {},
     "outputs": [
      {
       "output_type": "pyout",
       "prompt_number": 146,
       "text": [
        "True"
       ]
      }
     ],
     "prompt_number": 146
    },
    {
     "cell_type": "code",
     "collapsed": false,
     "input": [
      "scipy.nan >= 4"
     ],
     "language": "python",
     "metadata": {},
     "outputs": [
      {
       "output_type": "pyout",
       "prompt_number": 149,
       "text": [
        "False"
       ]
      }
     ],
     "prompt_number": 149
    },
    {
     "cell_type": "code",
     "collapsed": false,
     "input": [
      "scipy.nanmax(scipy.array((scipy.nan,4)))"
     ],
     "language": "python",
     "metadata": {},
     "outputs": [
      {
       "output_type": "pyout",
       "prompt_number": 161,
       "text": [
        "4.0"
       ]
      }
     ],
     "prompt_number": 161
    },
    {
     "cell_type": "code",
     "collapsed": false,
     "input": [
      "-scipy.ones(5)"
     ],
     "language": "python",
     "metadata": {},
     "outputs": [
      {
       "output_type": "pyout",
       "prompt_number": 162,
       "text": [
        "array([-1., -1., -1., -1., -1.])"
       ]
      }
     ],
     "prompt_number": 162
    },
    {
     "cell_type": "code",
     "collapsed": false,
     "input": [
      "x = 4\n",
      "x += 1\n",
      "print(x)\n",
      "x += 4\n",
      "print(x)"
     ],
     "language": "python",
     "metadata": {},
     "outputs": [
      {
       "output_type": "stream",
       "stream": "stdout",
       "text": [
        "5\n",
        "9\n"
       ]
      }
     ],
     "prompt_number": 175
    },
    {
     "cell_type": "code",
     "collapsed": false,
     "input": [],
     "language": "python",
     "metadata": {},
     "outputs": []
    }
   ],
   "metadata": {}
  }
 ]
}